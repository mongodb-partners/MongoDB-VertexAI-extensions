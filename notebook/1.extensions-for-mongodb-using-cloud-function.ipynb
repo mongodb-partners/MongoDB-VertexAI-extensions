{
  "cells": [
    {
      "cell_type": "markdown",
      "source": [
        "# MongoDB Extension for Vertex AI Agent SDK\n",
        "We will use this notebook as a pre-requisite to build extensions that will connect to MongoDB Atlas. The LLM will perform queries on MongoDB Atlas based on user queries\n",
        "\n",
        "To begin with the extensions import the required libraries.\n"
      ],
      "metadata": {
        "id": "hObZSvvrSAeJ"
      },
      "id": "hObZSvvrSAeJ"
    },
    {
      "cell_type": "code",
      "id": "vTlgwrtY1bP8EdJjkYWaAYiN",
      "metadata": {
        "tags": [],
        "id": "vTlgwrtY1bP8EdJjkYWaAYiN"
      },
      "source": [
        "!pip install --force-reinstall --quiet google_cloud_aiplatform\n",
        "# This is for printing the Vertex AI service account.\n",
        "!pip install --force-reinstall --quiet langchain==0.0.298\n",
        "\n",
        "!pip install --upgrade google-auth\n",
        "!pip install bigframes==0.26.0"
      ],
      "execution_count": null,
      "outputs": []
    },
    {
      "cell_type": "markdown",
      "source": [
        "# Create OpenAPI spec for MongoDB\n",
        "Follow the [instructions](https://github.com/mongodb-partners/MongoDB-VertexAI-Agent-SDK/tree/main/api_setup) in the app_setup/README.md file of the github to create the OpenAPI spec and upload to GCS bucket.\n"
      ],
      "metadata": {
        "id": "EXQv28hMSLFo"
      },
      "id": "EXQv28hMSLFo"
    },
    {
      "cell_type": "markdown",
      "source": [
        "# Declare variables"
      ],
      "metadata": {
        "id": "AlXHPEYUSsVf"
      },
      "id": "AlXHPEYUSsVf"
    },
    {
      "cell_type": "code",
      "source": [
        "## This is just a sample values please replace accordingly to your project\n",
        "import os\n",
        "\n",
        "# update these variables before runnning\n",
        "PROJECT_ID = '' # @param {type:\"string\"}\n",
        "REGION = '' # @param {type:\"string\"}\n",
        "STAGING_BUCKET = '' # @param {type:\"string\"}\n",
        "\n",
        "## Extension Config\n",
        "EXTENSION_DISPLAY_HOME =  \"MongoDb Vertex API Interpreter\"\n",
        "\n",
        "# Update the clster name in the EXTENSION_DESCRIPTION and MANIFEST_DESCRIPTION\n",
        "EXTENSION_DESCRIPTION =  \"This extension makes api call to mongodb cluster <Cluster name> database sample_mflix and collection movies  and sample_restaurants and collection restaurants\"\n",
        "MANIFEST_DESCRIPTION =  \"\"\"\n",
        "This extension makes api call to mongodb cluster <Cluster Name>, database 'sample_mflix' and collection 'movies' it also connects to database 'sample_restaurants' and collection 'restaurants' to do all crud operations and This extension makes api call to mongodb cluster FreeTier, database sample_restaurants  and collection restaurants to do all crud operations based on the user query related to papers or resturants\n",
        "\"\"\"\n",
        "\n",
        "## OPEN API SPec config\n",
        "MANIFEST_NAME =  \"mdb_crud_interpreter_for_agent_sdk\" # @param {type: \"string\"}\n",
        "\n",
        "OPENAPI_GCS_URI =  \"\" # @param {type:\"string\"}\n",
        "\n"
      ],
      "metadata": {
        "id": "zPPvc5YSdQbH",
        "executionInfo": {
          "status": "ok",
          "timestamp": 1729668309184,
          "user_tz": -330,
          "elapsed": 687,
          "user": {
            "displayName": "",
            "userId": ""
          }
        }
      },
      "id": "zPPvc5YSdQbH",
      "execution_count": 10,
      "outputs": []
    },
    {
      "cell_type": "markdown",
      "source": [
        "# Import libraries and initialise the aiplatform"
      ],
      "metadata": {
        "id": "zVLFdtL6T5jZ"
      },
      "id": "zVLFdtL6T5jZ"
    },
    {
      "cell_type": "code",
      "source": [
        "##LLM config\n",
        "os.environ['LLM_MODEL'] = \"gemini-1.5-pro\"\n",
        "\n",
        "from google.cloud import aiplatform\n",
        "from vertexai.preview import extensions\n",
        "\n",
        "\n",
        "aiplatform.init(\n",
        "    project=PROJECT_ID,\n",
        "    location=REGION,\n",
        "    staging_bucket=STAGING_BUCKET,\n",
        ")"
      ],
      "metadata": {
        "id": "l-7YCaoH5C9D",
        "executionInfo": {
          "status": "ok",
          "timestamp": 1729668312769,
          "user_tz": -330,
          "elapsed": 673,
          "user": {
            "displayName": "",
            "userId": ""
          }
        }
      },
      "id": "l-7YCaoH5C9D",
      "execution_count": 11,
      "outputs": []
    },
    {
      "cell_type": "markdown",
      "source": [
        "# Create Vertex AI Extension for MongoDB Atlas\n",
        "\n",
        "Update the service account name copied from the Cloud function"
      ],
      "metadata": {
        "id": "3QP72RDgUDJA"
      },
      "id": "3QP72RDgUDJA"
    },
    {
      "cell_type": "code",
      "source": [
        "from google.cloud import aiplatform\n",
        "from vertexai.preview import extensions\n",
        "\n",
        "mdb_crud = extensions.Extension.create(\n",
        "         display_name = EXTENSION_DISPLAY_HOME,\n",
        "         # Optional.\n",
        "         description = EXTENSION_DESCRIPTION,\n",
        "         manifest = {\n",
        "             \"name\": MANIFEST_NAME,\n",
        "             \"description\": MANIFEST_DESCRIPTION,\n",
        "             \"api_spec\": {\n",
        "                 \"open_api_gcs_uri\": (\n",
        "                     OPENAPI_GCS_URI\n",
        "                 ),\n",
        "             },\n",
        "             \"authConfig\": {\n",
        "                \"authType\": \"OAUTH\",\n",
        "                \"oauthConfig\": {\"service_account\": \"<Service account name here>\"}\n",
        "              },\n",
        "         },\n",
        "     )\n",
        "mdb_crud"
      ],
      "metadata": {
        "id": "BA_n0ssp5Hia"
      },
      "id": "BA_n0ssp5Hia",
      "execution_count": null,
      "outputs": []
    },
    {
      "cell_type": "code",
      "source": [],
      "metadata": {
        "id": "ix3pY_1v7esF"
      },
      "id": "ix3pY_1v7esF",
      "execution_count": null,
      "outputs": []
    }
  ],
  "metadata": {
    "kernelspec": {
      "display_name": "Python 3",
      "language": "python",
      "name": "python3"
    },
    "language_info": {
      "codemirror_mode": {
        "name": "ipython",
        "version": 3
      },
      "file_extension": ".py",
      "mimetype": "text/x-python",
      "name": "python",
      "nbconvert_exporter": "python",
      "pygments_lexer": "ipython3",
      "version": "3.10.10"
    },
    "colab": {
      "provenance": [],
      "name": "venkatesh.shanbhag (Sep 30, 2024, 11:13:45 AM)"
    }
  },
  "nbformat": 4,
  "nbformat_minor": 5
}