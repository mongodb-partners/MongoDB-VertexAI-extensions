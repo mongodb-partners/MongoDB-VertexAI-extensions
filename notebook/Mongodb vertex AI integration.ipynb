{
  "cells": [
    {
      "cell_type": "markdown",
      "id": "TdzAURHbrDyW",
      "metadata": {
        "id": "TdzAURHbrDyW"
      },
      "source": [
        "#**Vertex AI Extensions**\n",
        "In the digital age, leveraging natural language for database queries represents a leap towards more intuitive data management. This tutorialblog introduces a novel approach that combines Google Gemini's advanced natural language processing with MongoDB, facilitated by Vertex AI Extensions. These extensions address key limitations of Large Language Models (LLMs) by enabling real-time data querying and modification, which traditional LLMs cannot do due to their static knowledge base post-training. By integrating MongoDB Atlas with Vertex AI Extensions, we offer a solution that not only enhances the accessibility and usability of database interactions through natural language but also ensures up-to-date, dynamic data access and manipulation. This symbiosis of MongoDB Atlas's robust data management with the cutting-edge capabilities of Google Gemini and Vertex AI Extensions embodies the fusion of generative AI with database technology, setting a new standard for data interaction experiences.\n",
        "\n",
        "MongoDB seamlessly integrates with Google Vertex AI Extensions, enabling users to perform operations on their MongoDB database using natural language queries through Google Gemini, follow these detailed instructions and prerequisites. This guide will ensure users of all levels can successfully set up their environment and utilize the notebook effectively."
      ]
    },
    {
      "cell_type": "markdown",
      "id": "rdR2NEf4sHFV",
      "metadata": {
        "id": "rdR2NEf4sHFV"
      },
      "source": [
        "\n",
        "# **Prerequisites**\n",
        "\n",
        "Before you start, make sure you have:\n",
        "\n",
        "* **A Google Cloud Platform (GCP) Account**: Necessary to access Google Cloud services, including Vertex AI and Secrets Manager. Following the link for [documentation](https://www.mongodb.com/docs/atlas/app-services/data-api/generated-endpoints/) setup.\n",
        "\n",
        "* **A MongoDB Atlas Account:** For hosting your MongoDB database. If you're new to MongoDB, sign up and create a cluster in MongoDB Atlas following MongoDB's [documentation](https://www.mongodb.com/docs/guides/atlas/cluster/)\n",
        "\n",
        "* **Google Cloud SDK Installed:** For interacting with GCP services through the command line.\n",
        "\n",
        "* **Vertex AI Extensions enabled:** Signup for Extension Trusted Tester program following the [documentation](https://cloud.google.com/vertex-ai/generative-ai/docs/extensions/overview)"
      ]
    },
    {
      "cell_type": "markdown",
      "id": "XeUK-d1Asvp3",
      "metadata": {
        "id": "XeUK-d1Asvp3"
      },
      "source": [
        "# **Step-by-Step Guide**\n",
        "\n",
        "1. **Enable MongoDB Data API**: Navigate to the Atlas console, find the \"Data API\" section under \"App Services\", and enable the Data API. Configure permissions and note down the API URL and key. Follow the link for [documentation](https://www.mongodb.com/docs/atlas/app-services/data-api/generated-endpoints/)\n",
        "\n",
        "2. **Store MongoDB API Key in Google Secrets Manager**\n",
        "      * **Create a Secret for Your API Key**: Go to the Google Cloud Console, navigate to Secrets Manager, and create a new secret. Store your MongoDB API key here for secure access. Follow the link for [documentation](https://cloud.google.com/secret-manager/docs/creating-and-accessing-secrets#:~:text=Go%20to%20the%20Secret%20Manager%20page%20in%20the%20Google%20Cloud%20console.&text=On%20the%20Secret%20Manager%20page,example%2C%20my%2Dsecret%20).\n",
        "\n",
        "3. **Prepare Your OpenAPI 3 Specification**\n",
        "\n",
        "      * **Develop API Specification:** Define the interactions between Google Vertex AI and your MongoDB using OpenAPI 3.0. This specification outlines how natural language queries will be translated into MongoDB operations.    \n"
      ]
    },
    {
      "cell_type": "markdown",
      "id": "o-PMYM4CIXzQ",
      "metadata": {
        "id": "o-PMYM4CIXzQ"
      },
      "source": [
        "# **Environment Variables Configuration**\n",
        "\n",
        "* This cell defines environment variables used throughout the notebook.\n",
        "* Replace the placeholder values with your actual data before running the notebook.\n",
        "* These variables should ideally be loaded from secure environment variables or a configuration file in a production setting."
      ]
    },
    {
      "cell_type": "code",
      "execution_count": 1,
      "id": "P7R8dlQrIXPV",
      "metadata": {
        "executionInfo": {
          "elapsed": 1,
          "status": "ok",
          "timestamp": 1712264304793,
          "user": {
            "displayName": "",
            "userId": ""
          },
          "user_tz": 300
        },
        "id": "P7R8dlQrIXPV"
      },
      "outputs": [],
      "source": [
        "import os\n",
        "## This is just a sample values please replace accordingly to your project\n",
        "# Setting up the GCP project\n",
        "os.environ['PROJECT_ID'] = 'gcp-pov'  # GCP Project ID\n",
        "os.environ['REGION'] =  \"us-central1\" # Project Region\n",
        "## GCS Bucket location\n",
        "os.environ['STAGING_BUCKET'] =  \"gs://vertexai_extensions\"\n",
        "## Extension Config\n",
        "os.environ['EXTENSION_DISPLAY_HOME'] =  \"MongoDb Vertex API Interpreter\"\n",
        "os.environ['EXTENSION_DESCRIPTION'] =  \"This extension makes api call to mongodb to do all crud operations\"\n",
        "\n",
        "## OPEN API SPec config\n",
        "os.environ['MANIFEST_NAME'] =  \"mdb_crud_interpreter\"\n",
        "os.environ['MANIFEST_DESCRIPTION'] =  \"This extension makes api call to mongodb to do all crud operations\"\n",
        "os.environ['OPENAPI_GCS_URI'] =  \"gs://vertexai_extensions/openapispec.yaml\"\n",
        "\n",
        "## API KEY secret location\n",
        "os.environ['API_SECRET_LOCATION'] = \"projects/787220387490/secrets/mdbapi/versions/1\"\n",
        "\n",
        "##LLM config\n",
        "os.environ['LLM_MODEL'] = \"gemini-1.0-pro\"\n",
        "\n",
        "\n"
      ]
    },
    {
      "cell_type": "markdown",
      "id": "nX6ENpGRsL8Q",
      "metadata": {
        "id": "nX6ENpGRsL8Q"
      },
      "source": [
        "# **Vertex Extensions SDK: Connecting Models to APIs**\n",
        "Vertex AI Extensions is a platform for creating and managing extensions that connect large language models to external systems via APIs. These external systems can provide LLMs with real-time data and perform data processing actions on their behalf."
      ]
    },
    {
      "cell_type": "markdown",
      "id": "JZ00P-q-t_F_",
      "metadata": {
        "id": "JZ00P-q-t_F_"
      },
      "source": [
        "# Connect to project"
      ]
    },
    {
      "cell_type": "code",
      "execution_count": null,
      "id": "17IsRDoQsnRs",
      "metadata": {
        "id": "17IsRDoQsnRs"
      },
      "outputs": [],
      "source": [
        "from google.colab import auth\n",
        "auth.authenticate_user(os.environ['PROJECT_ID'])\n",
        "\n",
        "!gcloud config set project {os.environ['PROJECT_ID']}"
      ]
    },
    {
      "cell_type": "markdown",
      "id": "tOC96SbutzBp",
      "metadata": {
        "id": "tOC96SbutzBp"
      },
      "source": [
        "# To install required dependency"
      ]
    },
    {
      "cell_type": "code",
      "execution_count": null,
      "id": "oFyGewtBFVkk",
      "metadata": {
        "id": "oFyGewtBFVkk"
      },
      "outputs": [],
      "source": [
        "!pip install --force-reinstall --quiet google_cloud_aiplatform\n",
        "# This is for printing the Vertex AI service account.\n",
        "!pip install --upgrade --quiet google-cloud-resource-manager\n",
        "# This is for the section on Langchain using ReasoningEngine.\n",
        "!pip install --force-reinstall --quiet langchain==0.0.298\n",
        "# This is for the section on Videos using ReasoningEngine.\n",
        "!pip install pytube\n",
        "\n",
        "!pip install --upgrade google-auth\n",
        "!pip install bigframes==0.26.0"
      ]
    },
    {
      "cell_type": "markdown",
      "id": "wmvqryRztlg6",
      "metadata": {
        "id": "wmvqryRztlg6"
      },
      "source": [
        "# Restarting the Kernel after installing/updating dependency."
      ]
    },
    {
      "cell_type": "code",
      "execution_count": 1,
      "id": "S1PFVKlntJFu",
      "metadata": {
        "colab": {
          "base_uri": "https://localhost:8080/"
        },
        "executionInfo": {
          "elapsed": 217,
          "status": "ok",
          "timestamp": 1712264296987,
          "user": {
            "displayName": "",
            "userId": ""
          },
          "user_tz": 300
        },
        "id": "S1PFVKlntJFu",
        "outputId": "e9dd450d-633f-4b91-8847-7e76c14e5fd8"
      },
      "outputs": [
        {
          "data": {
            "text/plain": [
              "{'status': 'ok', 'restart': True}"
            ]
          },
          "execution_count": 1,
          "metadata": {},
          "output_type": "execute_result"
        }
      ],
      "source": [
        "# Restart the kernel after installing packages.\n",
        "# (You don't have to re-run the cells above after this.)\n",
        "\n",
        "import IPython\n",
        "app = IPython.Application.instance()\n",
        "app.kernel.do_shutdown(True)"
      ]
    },
    {
      "cell_type": "markdown",
      "id": "wLHvk62u6xjx",
      "metadata": {
        "id": "wLHvk62u6xjx"
      },
      "source": [
        "# **Re run the Env variable cell again after Kernel restart**"
      ]
    },
    {
      "cell_type": "code",
      "execution_count": 2,
      "id": "YgClrOZ54t3F",
      "metadata": {
        "executionInfo": {
          "elapsed": 1,
          "status": "ok",
          "timestamp": 1712264310037,
          "user": {
            "displayName": "",
            "userId": ""
          },
          "user_tz": 300
        },
        "id": "YgClrOZ54t3F"
      },
      "outputs": [],
      "source": [
        "## This is just a sample values please replace accordingly to your project\n",
        "import os\n",
        "\n",
        "# Setting up the GCP project\n",
        "os.environ['PROJECT_ID'] = 'gcp-pov'  # GCP Project ID\n",
        "os.environ['REGION'] =  \"us-central1\" # Project Region\n",
        "## GCS Bucket location\n",
        "os.environ['STAGING_BUCKET'] =  \"gs://vertexai_extensions\"\n",
        "## Extension Config\n",
        "os.environ['EXTENSION_DISPLAY_HOME'] =  \"MongoDb Vertex API Interpreter\"\n",
        "os.environ['EXTENSION_DESCRIPTION'] =  \"This extension makes api call to mongodb to do all crud operations\"\n",
        "\n",
        "## OPEN API SPec config\n",
        "os.environ['MANIFEST_NAME'] =  \"mdb_crud_interpreter\"\n",
        "os.environ['MANIFEST_DESCRIPTION'] =  \"This extension makes api call to mongodb to do all crud operations\"\n",
        "os.environ['OPENAPI_GCS_URI'] =  \"gs://vertexai_extensions/openapispec.yaml\"\n",
        "\n",
        "## API KEY secret location\n",
        "os.environ['API_SECRET_LOCATION'] = \"projects/787220387490/secrets/mdbapi/versions/1\"\n",
        "\n",
        "##LLM config\n",
        "os.environ['LLM_MODEL'] = \"gemini-1.0-pro\"\n",
        "\n",
        "\n"
      ]
    },
    {
      "cell_type": "markdown",
      "id": "bOco6vbXtbpa",
      "metadata": {
        "id": "bOco6vbXtbpa"
      },
      "source": [
        "# Initializing AI platform"
      ]
    },
    {
      "cell_type": "code",
      "execution_count": 3,
      "id": "bc5-yzk1tOM0",
      "metadata": {
        "executionInfo": {
          "elapsed": 5273,
          "status": "ok",
          "timestamp": 1712264318054,
          "user": {
            "displayName": "",
            "userId": ""
          },
          "user_tz": 300
        },
        "id": "bc5-yzk1tOM0"
      },
      "outputs": [],
      "source": [
        "from google.cloud import aiplatform\n",
        "from vertexai.preview import extensions\n",
        "\n",
        "PROJECT_ID = os.environ['PROJECT_ID']\n",
        "REGION = os.environ['REGION']\n",
        "STAGING_BUCKET = os.environ['STAGING_BUCKET']\n",
        "\n",
        "aiplatform.init(\n",
        "    project=PROJECT_ID,\n",
        "    location=REGION,\n",
        "    staging_bucket=STAGING_BUCKET,\n",
        ")"
      ]
    },
    {
      "cell_type": "markdown",
      "id": "llZKus9cuelT",
      "metadata": {
        "id": "llZKus9cuelT"
      },
      "source": [
        "# To create extension\n",
        "\n",
        "An extension acts as a bridge between large language models (LLMs) and external systems, allowing for enriched interactions beyond the model's pre-trained knowledge. When creating an extension, you primarily define its behavior and interaction patterns through a manifest file. This manifest file details the API calls the extension can make, how it authenticates those calls, and other metadata about the extension.\n",
        "\n",
        "**Manifest Parameters**\n",
        "\n",
        "The manifest is a structured JSON object containing several key components:\n",
        "\n",
        "**display_name:** A human-readable name for the extension.\n",
        "description: (Optional) A brief description of what the extension does.\n",
        "manifest:\n",
        "\n",
        "**name:** A unique identifier for the extension.\n",
        "description: A detailed description of the extension's functionality.\n",
        "api_spec: Specifies the API interactions using an OpenAPI specification.\n",
        "\n",
        "**open_api_gcs_uri:** The URI to the OpenAPI specification file stored in Google Cloud Storage (GCS).\n",
        "auth_config: Configuration details for authenticating API calls.\n",
        "\n",
        "**apiKeyConfig:**\n",
        "\n",
        "**name:** The name of the API key (a reference name used in the extension).\n",
        "apiKeySecret: The location of the actual API key stored in Google Secret Manager.\n",
        "httpElementLocation: Specifies how the API key is included in API calls, typically \"HTTP_IN_HEADER\".\n",
        "\n",
        "**OpenAPI Specification**\n",
        "\n",
        "The OpenAPI Specification (OAS) defines a standard, language-agnostic interface to RESTful APIs, allowing both humans and computers to understand the capabilities of a service without accessing its source code or documentation. An OpenAPI spec outlines the available endpoints in an API, how to access them, the expected request/response formats, and authentication methods.\n",
        "\n",
        "When creating an extension, you must provide an OpenAPI spec that describes how the extension interacts with the external service. This specification is typically hosted in a GCS bucket and referenced in the extension's manifest (open_api_gcs_uri).\n",
        "\n",
        "**Authentication Configuration**\n",
        "\n",
        "Extensions often need to interact with secured external services, requiring authentication. One common method is using an API key, passed as a header in HTTP requests. For security, the actual API key should not be hardcoded in the extension's manifest or code. Instead, it's stored securely in Google Secret Manager, and the extension's manifest references its location:\n",
        "\n",
        "apiKeySecret: The path to the secret in Google Secret Manager, allowing the extension to retrieve the API key securely at runtime.\n",
        "\n",
        "This approach ensures that sensitive information, like API keys, remains secure and isn't exposed in codebases or configuration files.\n",
        "A sample file is below. Complete file is available [here](https://github.com/mongodb-partners/MongoDB-VertexAI-extensions/blob/main/open-api-spec/mdb-data-api.yaml)"
      ]
    },
    {
      "cell_type": "code",
      "execution_count": null,
      "id": "8oaQBITn6dKY",
      "metadata": {
        "id": "8oaQBITn6dKY"
      },
      "outputs": [],
      "source": [
        "## sample yaml file for mongodb data API\n",
        "# openapi: \"3.0.0\"\n",
        "# info:\n",
        "#   version: 1.0.0\n",
        "#   title: MongoDB Data API Service\n",
        "#   description: Service to retrieve documents from MongoDB based on query parameters.\n",
        "# servers:\n",
        "#   - url: https://us-east-1.aws.data.mongodb-api.com/app/data-aaaa/endpoint/data/v1. ## Update your data api endpoint here\n",
        "# paths:\n",
        "#   /action/findOne:\n",
        "#     post:\n",
        "#       operationId: findone_mdb\n",
        "#       summary: Find a Document in MongoDB\n",
        "#       description: Retrieve a single document from a MongoDB collection using specified criteria.\n",
        "#       requestBody:\n",
        "#         description: JSON criteria for finding the document.\n",
        "#         required: true\n",
        "#         content:\n",
        "#           application/json:\n",
        "#             schema:\n",
        "#               type: object\n",
        "#               properties:\n",
        "#                 dataSource:\n",
        "#                   type: string\n",
        "#                   description: The data source.\n",
        "#                 database:\n",
        "#                   type: string\n",
        "#                   description: The database name.\n",
        "#                 collection:\n",
        "#                   type: string\n",
        "#                   description: The collection name.\n",
        "#                 filter:\n",
        "#                   type: object\n",
        "#                   description: A MongoDB query filter that matches documents.\n",
        "#       headers:\n",
        "#         api-key:\n",
        "#           description: API key for authentication.\n",
        "#           required: true\n",
        "#           schema:\n",
        "#             type: string\n",
        "#       responses:\n",
        "#         '200':\n",
        "#           description: Successful operation.\n",
        "#           content:\n",
        "#             application/json:\n",
        "#               schema:\n",
        "#                 type: object\n",
        "#         '400':\n",
        "#           description: Invalid request.\n",
        "#           content:\n",
        "#             application/json:\n",
        "#               example:\n",
        "#                 error: \"Invalid request. Check the request body.\"\n",
        "#         '401':\n",
        "#           description: Unauthorized. Missing or invalid API key.\n",
        "#           content:\n",
        "#             application/json:\n",
        "#               example:\n",
        "#                 error: \"Unauthorized. Missing or invalid API key.\"\n",
        "#         '404':\n",
        "#           description: Document not found.\n",
        "#           content:\n",
        "#             application/json:\n",
        "#               example:\n",
        "#                 error: \"Document not found.\"\n",
        "#         '500':\n",
        "#           description: Internal Server Error.\n",
        "#           content:\n",
        "#             application/json:\n",
        "#               example:\n",
        "#                 error: \"Internal Server Error. Please try again later.\"\n",
        "#       security:\n",
        "#           - api-key: []\n",
        "# components:\n",
        "#     securitySchemes:\n",
        "#       api-key:\n",
        "#         type: apiKey\n",
        "#         in: header\n",
        "#         name: api-key\n"
      ]
    },
    {
      "cell_type": "code",
      "execution_count": null,
      "id": "IdFYSmQ2uky5",
      "metadata": {
        "id": "IdFYSmQ2uky5"
      },
      "outputs": [],
      "source": [
        "mdb_crud = extensions.Extension.create(\n",
        "         display_name = os.environ['EXTENSION_DISPLAY_HOME'],\n",
        "         # Optional.\n",
        "         description = os.environ['EXTENSION_DESCRIPTION'],  # Optional.\n",
        "         manifest = {\n",
        "             \"name\": os.environ['MANIFEST_NAME'],\n",
        "             \"description\": os.environ['MANIFEST_DESCRIPTION'],\n",
        "             \"api_spec\": {\n",
        "                 \"open_api_gcs_uri\": (\n",
        "                     os.environ['OPENAPI_GCS_URI']\n",
        "                 ),\n",
        "             },\n",
        "             \"auth_config\": {\n",
        "                 # GOOGLE_SERVICE_ACCOUNT_AUTH is only for 1P supported extensions.\n",
        "                 \"apiKeyConfig\":{\n",
        "             \"name\":\"api-key\",\n",
        "             \"apiKeySecret\":os.environ['API_SECRET_LOCATION'],\n",
        "             \"httpElementLocation\": \"HTTP_IN_HEADER\"\n",
        "             },\n",
        "             \"authType\":\"API_KEY_AUTH\"\n",
        "             },\n",
        "         },\n",
        "     )\n",
        "mdb_crud"
      ]
    },
    {
      "cell_type": "markdown",
      "id": "XUBQYU9IvD6A",
      "metadata": {
        "id": "XUBQYU9IvD6A"
      },
      "source": [
        "# Validate the Created Extension"
      ]
    },
    {
      "cell_type": "code",
      "execution_count": null,
      "id": "xtWVsCiGvHHn",
      "metadata": {
        "id": "xtWVsCiGvHHn"
      },
      "outputs": [],
      "source": [
        "print(\"Name:\", mdb_crud.gca_resource.name)\n",
        "print(\"Display Name:\", mdb_crud.gca_resource.display_name)\n",
        "print(\"Description:\", mdb_crud.gca_resource.description)"
      ]
    },
    {
      "cell_type": "markdown",
      "id": "6M80neNivUDM",
      "metadata": {
        "id": "6M80neNivUDM"
      },
      "source": [
        "# Operation Schema and Parameters\n",
        "For an Extension, we have the schema for its operations (it came from the OpenAPI Spec in the manifest when we created it):"
      ]
    },
    {
      "cell_type": "code",
      "execution_count": null,
      "id": "S7iTyxuTvV6z",
      "metadata": {
        "id": "S7iTyxuTvV6z"
      },
      "outputs": [],
      "source": [
        "import pprint\n",
        "\n",
        "pprint.pprint(mdb_crud.operation_schemas())"
      ]
    },
    {
      "cell_type": "markdown",
      "id": "ZpXH21coDDJY",
      "metadata": {
        "id": "ZpXH21coDDJY"
      },
      "source": [
        "\n",
        "# MongoDB CRUD Operations\n",
        "MongoDB is a powerful NoSQL database that offers flexibility and scalability for working with data in JSON-like documents. It supports a rich set of CRUD (Create, Read, Update, Delete) operations, which are essential for managing data stored in your databases. Below is a simple guide to performing basic CRUD operations in MongoDB, including an aggregation operation for summarizing data.\n",
        "\n",
        "Incorporating MongoDB's CRUD operations into a Vertex AI extension offers a seamless way to query and manipulate data within the sample_mflix database, specifically within the movies collection, through natural language processing. This setup leverages the power of Generative AI to understand and execute database operations based on human-like queries. Here's how these operations can be transformed into a Generative AI use case, enhancing user interaction with the database:\n",
        "\n"
      ]
    },
    {
      "cell_type": "markdown",
      "id": "tESvN_TIDzan",
      "metadata": {
        "id": "tESvN_TIDzan"
      },
      "source": [
        "# FindOne\n",
        "*Retrieve data through Vertex Extension*\n",
        "\n",
        "Imagine needing to quickly find out when a classic film was released without navigating through the database manually. By asking Vertex AI, \"Find the release year of the movie 'A Corner in Wheat' from VertexAI-POC cluster, sample_mflix, movies,\" you get the specific release year instantly, as the system performs a findOne() operation to retrieve this detail."
      ]
    },
    {
      "cell_type": "markdown",
      "id": "1ObaTKOhp8t_",
      "metadata": {
        "id": "1ObaTKOhp8t_"
      },
      "source": [
        "# Environment variables for find one operations"
      ]
    },
    {
      "cell_type": "code",
      "execution_count": 81,
      "id": "_C1OpOHNbn6q",
      "metadata": {
        "executionInfo": {
          "elapsed": 236,
          "status": "ok",
          "timestamp": 1712290398698,
          "user": {
            "displayName": "",
            "userId": ""
          },
          "user_tz": 300
        },
        "id": "_C1OpOHNbn6q"
      },
      "outputs": [],
      "source": [
        "## Operation Ids\n",
        "os.environ['FIND_ONE_OP_ID'] = \"findone_mdb\"\n",
        "\n",
        "\n",
        "## NL Queries\n",
        "os.environ['FIND_ONE_NL_QUERY'] = \"Find the release year of the movie 'A Corner in Wheat' from VertexAI-POC cluster, sample_mflix, movies\"\n",
        "\n",
        "## Mongodb Config\n",
        "os.environ['DATA_SOURCE'] = \"VertexAI-POC\"\n",
        "os.environ['DB_NAME'] = \"sample_mflix\"\n",
        "os.environ['COLLECTION_NAME'] = \"movies\"\n",
        "\n",
        "### Test data setup\n",
        "os.environ['TITLE_FILTER_CLAUSE'] = \"A Corner in Wheat\"\n",
        "\n"
      ]
    },
    {
      "cell_type": "markdown",
      "id": "773c62a0",
      "metadata": {
        "id": "773c62a0"
      },
      "source": [
        "Gemini integration for natural language to extension schema conversion"
      ]
    },
    {
      "cell_type": "code",
      "execution_count": null,
      "id": "bc7dc5f5",
      "metadata": {
        "id": "bc7dc5f5"
      },
      "outputs": [],
      "source": [
        "from vertexai.preview.generative_models import GenerativeModel, Tool\n",
        "\n",
        "fc_chat = GenerativeModel(os.environ['LLM_MODEL']).start_chat()\n",
        "findOneResponse = fc_chat.send_message(os.environ['FIND_ONE_NL_QUERY'],\n",
        "    tools=[Tool.from_dict({\n",
        "        \"function_declarations\": mdb_crud.operation_schemas()\n",
        "    })],\n",
        ")\n",
        "\n",
        "findOneResponse"
      ]
    },
    {
      "cell_type": "markdown",
      "id": "jHQmQBS4VN6w",
      "metadata": {
        "id": "jHQmQBS4VN6w"
      },
      "source": [
        "From the conveted schema query the extension"
      ]
    },
    {
      "cell_type": "code",
      "execution_count": null,
      "id": "UEvHg7-XUOVu",
      "metadata": {
        "id": "UEvHg7-XUOVu"
      },
      "outputs": [],
      "source": [
        "\n",
        "response = mdb_crud.execute(\n",
        "    operation_id = findOneResponse.candidates[0].content.parts[0].function_call.name,\n",
        "    operation_params = findOneResponse.candidates[0].content.parts[0].function_call.args\n",
        ")\n",
        "\n",
        "response"
      ]
    },
    {
      "cell_type": "markdown",
      "id": "baa1ea1a",
      "metadata": {
        "id": "baa1ea1a"
      },
      "source": [
        "# Find Many\n",
        "*Retrieve multiple documents through Vertex Extension*\n",
        "\n",
        "A film historian wants a list of all movies released in a specific year, say 1924, to study the cinematic trends of that era. They could ask, \"Give me movies released in the year 1924 from VertexAI-POC cluster, sample_mflix, movies,\" and the system would use the find() method to list all movies from 1924, providing a comprehensive snapshot of that year's cinematic output."
      ]
    },
    {
      "cell_type": "markdown",
      "id": "GjxxdmG_rVi6",
      "metadata": {
        "id": "GjxxdmG_rVi6"
      },
      "source": [
        "# Environment variables for find many operations"
      ]
    },
    {
      "cell_type": "code",
      "execution_count": 85,
      "id": "sDszP2hlbpSK",
      "metadata": {
        "executionInfo": {
          "elapsed": 306,
          "status": "ok",
          "timestamp": 1712290432678,
          "user": {
            "displayName": "",
            "userId": ""
          },
          "user_tz": 300
        },
        "id": "sDszP2hlbpSK"
      },
      "outputs": [],
      "source": [
        "## Operation Ids\n",
        "os.environ['FIND_MANY_OP_ID'] = \"findmany_mdb\"\n",
        "\n",
        "## NL Queries\n",
        "os.environ['FIND_MANY_NL_QUERY'] = \"give me movies released in year 1924 from VertexAI-POC cluster, sample_mflix, movies\"\n",
        "\n",
        "\n",
        "## Mongodb Config\n",
        "os.environ['DATA_SOURCE'] = \"VertexAI-POC\"\n",
        "os.environ['DB_NAME'] = \"sample_mflix\"\n",
        "os.environ['COLLECTION_NAME'] = \"movies\"\n",
        "os.environ['YEAR'] = \"1924\"\n"
      ]
    },
    {
      "cell_type": "markdown",
      "id": "e3855a16",
      "metadata": {
        "id": "e3855a16"
      },
      "source": [
        "Gemini integration for natural language to extension schema conversion"
      ]
    },
    {
      "cell_type": "code",
      "execution_count": null,
      "id": "073a86a3",
      "metadata": {
        "id": "073a86a3"
      },
      "outputs": [],
      "source": [
        "from vertexai.preview.generative_models import GenerativeModel, Tool\n",
        "\n",
        "fc_chat = GenerativeModel(os.environ['LLM_MODEL']).start_chat()\n",
        "findmanyResponse = fc_chat.send_message(os.environ['FIND_MANY_NL_QUERY'],\n",
        "    tools=[Tool.from_dict({\n",
        "        \"function_declarations\": mdb_crud.operation_schemas()\n",
        "    })],\n",
        ")\n",
        "\n",
        "findmanyResponse"
      ]
    },
    {
      "cell_type": "markdown",
      "id": "LK06EHguZzTd",
      "metadata": {
        "id": "LK06EHguZzTd"
      },
      "source": [
        "Execute the extension to get response"
      ]
    },
    {
      "cell_type": "code",
      "execution_count": null,
      "id": "e55c3076",
      "metadata": {
        "id": "e55c3076"
      },
      "outputs": [],
      "source": [
        "\n",
        "response = mdb_crud.execute(\n",
        "    operation_id = findmanyResponse.candidates[0].content.parts[0].function_call.name,\n",
        "    operation_params = findmanyResponse.candidates[0].content.parts[0].function_call.args\n",
        ")\n",
        "\n",
        "response"
      ]
    },
    {
      "cell_type": "markdown",
      "id": "194030ed",
      "metadata": {
        "id": "194030ed"
      },
      "source": [
        "# Insert\n",
        "*Create a new document*\n",
        "\n",
        "A filmmaker is cataloging their new project in a database of films. They request, \"Create a movie named 'My first movie' which is released in the year 2024 to VertexAI-POC cluster, sample_mflix, movies.\" The system uses insertOne() to add this new movie to the database, ensuring it's part of the historical record for future queries."
      ]
    },
    {
      "cell_type": "markdown",
      "id": "rwZLchUz0s-H",
      "metadata": {
        "id": "rwZLchUz0s-H"
      },
      "source": [
        "# Environment variables for insert operations"
      ]
    },
    {
      "cell_type": "code",
      "execution_count": 92,
      "id": "2CdjaUOf0t_e",
      "metadata": {
        "executionInfo": {
          "elapsed": 205,
          "status": "ok",
          "timestamp": 1712290511454,
          "user": {
            "displayName": "",
            "userId": ""
          },
          "user_tz": 300
        },
        "id": "2CdjaUOf0t_e"
      },
      "outputs": [],
      "source": [
        "## Operation Ids\n",
        "os.environ['INSERT_ONE_OP_ID'] = \"insertone_mdb\"\n",
        "## NL Queries\n",
        "os.environ['INSERT_NL_QUERY'] = \"create a movie named 'My first movie' which is released in the year 2024 to VertexAI-POC cluster, sample_mflix, movies\"\n",
        "\n",
        "## Mongodb Config\n",
        "os.environ['DATA_SOURCE'] = \"VertexAI-POC\"\n",
        "os.environ['DB_NAME'] = \"sample_mflix\"\n",
        "os.environ['COLLECTION_NAME'] = \"movies\"\n",
        "\n",
        "## Test data setup\n",
        "\n",
        "os.environ['TITLE'] = \"My first movie\"\n",
        "os.environ['YEAR'] = \"2024\"\n",
        "\n",
        "\n",
        "\n"
      ]
    },
    {
      "cell_type": "markdown",
      "id": "8b7e02c3",
      "metadata": {
        "id": "8b7e02c3"
      },
      "source": [
        "Gemini integration for natural language to extension schema conversion"
      ]
    },
    {
      "cell_type": "code",
      "execution_count": null,
      "id": "qwCLc-F6vsQW",
      "metadata": {
        "id": "qwCLc-F6vsQW"
      },
      "outputs": [],
      "source": [
        "from vertexai.preview.generative_models import GenerativeModel, Tool\n",
        "\n",
        "fc_chat = GenerativeModel(os.environ['LLM_MODEL']).start_chat()\n",
        "insertresponse = fc_chat.send_message(os.environ['INSERT_NL_QUERY'],\n",
        "    tools=[Tool.from_dict({\n",
        "        \"function_declarations\": mdb_crud.operation_schemas()\n",
        "    })],\n",
        ")\n",
        "\n",
        "insertresponse"
      ]
    },
    {
      "cell_type": "markdown",
      "id": "cM-3Wnzua5Kk",
      "metadata": {
        "id": "cM-3Wnzua5Kk"
      },
      "source": [
        "From the conveted schema query the extension"
      ]
    },
    {
      "cell_type": "code",
      "execution_count": null,
      "id": "ff83dce0",
      "metadata": {
        "id": "ff83dce0"
      },
      "outputs": [],
      "source": [
        "\n",
        "response = mdb_crud.execute(\n",
        "    operation_id = insertresponse.candidates[0].content.parts[0].function_call.name,\n",
        "    operation_params = insertresponse.candidates[0].content.parts[0].function_call.args\n",
        ")\n",
        "\n",
        "response"
      ]
    },
    {
      "cell_type": "markdown",
      "id": "kIW_0Uuk8UXj",
      "metadata": {
        "id": "kIW_0Uuk8UXj"
      },
      "source": [
        "# Update\n",
        "*Modify a data entry*\n",
        "\n",
        "After deciding to delay the release of their film, the filmmaker needs to update the database. They say, \"Update the release year of the movie titled 'My first movie' to 2025 from VertexAI-POC cluster, sample_mflix, movies.\" The system then updates the release year of the movie to 2025 using the updateOne() operation, keeping the database current."
      ]
    },
    {
      "cell_type": "markdown",
      "id": "5JsY9XSr1ZkL",
      "metadata": {
        "id": "5JsY9XSr1ZkL"
      },
      "source": [
        "# Environment variables for update operations"
      ]
    },
    {
      "cell_type": "code",
      "execution_count": 95,
      "id": "S0KlaNJ11aET",
      "metadata": {
        "executionInfo": {
          "elapsed": 201,
          "status": "ok",
          "timestamp": 1712290536035,
          "user": {
            "displayName": "",
            "userId": ""
          },
          "user_tz": 300
        },
        "id": "S0KlaNJ11aET"
      },
      "outputs": [],
      "source": [
        "## Operation Ids\n",
        "os.environ['UPDATE_OP_ID'] = \"uppdateone_mdb\"\n",
        "\n",
        "## NL Queries\n",
        "os.environ['UPDATE_NL_QUERY'] = \"Update the release year of movie titled 'My first movie' to 2025 from VertexAI-POC cluster, sample_mflix, movies\"\n",
        "\n",
        "## Mongodb Config\n",
        "os.environ['DATA_SOURCE'] = \"VertexAI-POC\"\n",
        "os.environ['DB_NAME'] = \"sample_mflix\"\n",
        "os.environ['COLLECTION_NAME'] = \"movies\"\n",
        "\n",
        "## Test data setup\n",
        "\n",
        "os.environ['TITLE'] = \"My first movie\"\n",
        "os.environ['YEAR'] = \"2025\"\n",
        "\n"
      ]
    },
    {
      "cell_type": "markdown",
      "id": "28d824b6",
      "metadata": {
        "id": "28d824b6"
      },
      "source": [
        "Gemini integration for natural language to extension schema conversion"
      ]
    },
    {
      "cell_type": "code",
      "execution_count": null,
      "id": "525862c3",
      "metadata": {
        "id": "525862c3"
      },
      "outputs": [],
      "source": [
        "from vertexai.preview.generative_models import GenerativeModel, Tool\n",
        "\n",
        "fc_chat = GenerativeModel(os.environ['LLM_MODEL']).start_chat()\n",
        "updateresponse = fc_chat.send_message(os.environ['UPDATE_NL_QUERY'],\n",
        "    tools=[Tool.from_dict({\n",
        "        \"function_declarations\": mdb_crud.operation_schemas()\n",
        "    })],\n",
        ")\n",
        "\n",
        "updateresponse"
      ]
    },
    {
      "cell_type": "markdown",
      "id": "8Yt28JUFcuiT",
      "metadata": {
        "id": "8Yt28JUFcuiT"
      },
      "source": [
        "From the conveted schema query the extension"
      ]
    },
    {
      "cell_type": "code",
      "execution_count": null,
      "id": "8d67fe93",
      "metadata": {
        "id": "8d67fe93"
      },
      "outputs": [],
      "source": [
        "\n",
        "response = mdb_crud.execute(\n",
        "    operation_id = updateresponse.candidates[0].content.parts[0].function_call.name,\n",
        "    operation_params = updateresponse.candidates[0].content.parts[0].function_call.args\n",
        ")\n",
        "\n",
        "response"
      ]
    },
    {
      "cell_type": "markdown",
      "id": "3MGnUbHY8ie7",
      "metadata": {
        "id": "3MGnUbHY8ie7"
      },
      "source": [
        "# Delete\n",
        "*Delete a data entry*\n",
        "\n",
        "A database manager is cleaning up entries and decides to remove outdated or irrelevant records. By stating, \"Delete the movie titled 'Gertie the Dinosaur' from VertexAI-POC cluster, sample_mflix, movies,\" the system finds and deletes this specific movie using deleteOne(), streamlining the database content."
      ]
    },
    {
      "cell_type": "markdown",
      "id": "sddhFUyh2KNk",
      "metadata": {
        "id": "sddhFUyh2KNk"
      },
      "source": [
        "# Environment variables for delete operations"
      ]
    },
    {
      "cell_type": "code",
      "execution_count": 68,
      "id": "7XZpTCLG2Kxw",
      "metadata": {
        "executionInfo": {
          "elapsed": 302,
          "status": "ok",
          "timestamp": 1712282318186,
          "user": {
            "displayName": "",
            "userId": ""
          },
          "user_tz": 300
        },
        "id": "7XZpTCLG2Kxw"
      },
      "outputs": [],
      "source": [
        "\n",
        "## Operation Ids\n",
        "os.environ['DELETE_OP_ID'] = \"deleteone_mdb\"\n",
        "\n",
        "## NL Queries\n",
        "os.environ['DELETE_NL_QUERY'] =  \"Delete the movie titled 'Gertie the Dinosaur' from VertexAI-POC cluster, sample_mflix, movies \"\n",
        "\n",
        "## Mongodb Config\n",
        "os.environ['DATA_SOURCE'] = \"VertexAI-POC\"\n",
        "os.environ['DB_NAME'] = \"sample_mflix\"\n",
        "os.environ['COLLECTION_NAME'] = \"movies\"\n",
        "\n",
        "## Test data setup\n",
        "\n",
        "\n",
        "os.environ['TITLE'] = \"A Corner in Wheat\"\n"
      ]
    },
    {
      "cell_type": "markdown",
      "id": "fc0301d4",
      "metadata": {
        "id": "fc0301d4"
      },
      "source": [
        "Gemini integration for natural language to extension schema conversion"
      ]
    },
    {
      "cell_type": "code",
      "execution_count": null,
      "id": "jFt2sZ789X5q",
      "metadata": {
        "id": "jFt2sZ789X5q"
      },
      "outputs": [],
      "source": [
        "from vertexai.preview.generative_models import GenerativeModel, Tool\n",
        "\n",
        "fc_chat = GenerativeModel(os.environ['LLM_MODEL']).start_chat()\n",
        "deleteresponse = fc_chat.send_message(os.environ['DELETE_NL_QUERY'],\n",
        "    tools=[Tool.from_dict({\n",
        "        \"function_declarations\": mdb_crud.operation_schemas()\n",
        "    })],\n",
        ")\n",
        "\n",
        "deleteresponse"
      ]
    },
    {
      "cell_type": "markdown",
      "id": "ruyJtwPhffUu",
      "metadata": {
        "id": "ruyJtwPhffUu"
      },
      "source": [
        "From the conveted schema query the extension"
      ]
    },
    {
      "cell_type": "code",
      "execution_count": null,
      "id": "f1e3a74d",
      "metadata": {
        "id": "f1e3a74d"
      },
      "outputs": [],
      "source": [
        "\n",
        "response = mdb_crud.execute(\n",
        "    operation_id = deleteresponse.candidates[0].content.parts[0].function_call.name,\n",
        "    operation_params = deleteresponse.candidates[0].content.parts[0].function_call.args\n",
        ")\n",
        "\n",
        "response"
      ]
    },
    {
      "cell_type": "markdown",
      "id": "HyjHI3sf9d4h",
      "metadata": {
        "id": "HyjHI3sf9d4h"
      },
      "source": [
        "# Aggregate\n",
        "\n",
        "*Retrieve data through Vertex Extension*\n",
        "\n",
        "A researcher is analyzing the volume of films produced over the years and asks, \"Get the count of the movies released in the year 1984 from VertexAI-POC cluster, sample_mflix, movies.\" The system employs the aggregate() method to count and return the number of movies released in 1984, providing valuable insights into the production rate of that year.\n",
        "\n"
      ]
    },
    {
      "cell_type": "markdown",
      "id": "9mgXAVWW2Tba",
      "metadata": {
        "id": "9mgXAVWW2Tba"
      },
      "source": [
        "# Environment variables for aggregate operations"
      ]
    },
    {
      "cell_type": "code",
      "execution_count": 98,
      "id": "5DqUkhZk2T0Z",
      "metadata": {
        "executionInfo": {
          "elapsed": 202,
          "status": "ok",
          "timestamp": 1712290574904,
          "user": {
            "displayName": "",
            "userId": ""
          },
          "user_tz": 300
        },
        "id": "5DqUkhZk2T0Z"
      },
      "outputs": [],
      "source": [
        "\n",
        "## Operation Ids\n",
        "\n",
        "os.environ['AGG_OP_ID'] = \"aggregate_mdb\"\n",
        "\n",
        "## NL Queries\n",
        "os.environ['AGGREGATE_NL_QUERY'] = 'Get the count of the movies released on the year 1984 from VertexAI-POC cluster, sample_mflix, movies'\n",
        "\n",
        "## Mongodb Config\n",
        "os.environ['DATA_SOURCE'] = \"VertexAI-POC\"\n",
        "os.environ['DB_NAME'] = \"sample_mflix\"\n",
        "os.environ['COLLECTION_NAME'] = \"movies\"\n",
        "os.environ['YEAR'] = \"1984\"\n"
      ]
    },
    {
      "cell_type": "markdown",
      "id": "790baa33",
      "metadata": {
        "id": "790baa33"
      },
      "source": [
        "Gemini integration for natural language to extension schema conversion"
      ]
    },
    {
      "cell_type": "code",
      "execution_count": null,
      "id": "b538c491",
      "metadata": {
        "id": "b538c491"
      },
      "outputs": [],
      "source": [
        "from vertexai.preview.generative_models import GenerativeModel, Tool\n",
        "\n",
        "fc_chat = GenerativeModel(os.environ['LLM_MODEL']).start_chat()\n",
        "aggregateresponse = fc_chat.send_message(os.environ['AGGREGATE_NL_QUERY'],\n",
        "    tools=[Tool.from_dict({\n",
        "        \"function_declarations\": mdb_crud.operation_schemas()\n",
        "    })],\n",
        ")\n",
        "\n",
        "aggregateresponse\n",
        "\n"
      ]
    },
    {
      "cell_type": "markdown",
      "id": "UD8Ge8dkqV3b",
      "metadata": {
        "id": "UD8Ge8dkqV3b"
      },
      "source": [
        "From the conveted schema query the extension"
      ]
    },
    {
      "cell_type": "code",
      "execution_count": null,
      "id": "4963a059",
      "metadata": {
        "id": "4963a059"
      },
      "outputs": [],
      "source": [
        "\n",
        "response = mdb_crud.execute(\n",
        "    operation_id = aggregateresponse.candidates[0].content.parts[0].function_call.name,\n",
        "    operation_params = aggregateresponse.candidates[0].content.parts[0].function_call.args\n",
        ")\n",
        "\n",
        "response"
      ]
    }
  ],
  "metadata": {
    "colab": {
      "name": "Mongodb vertex AI integration with Gemini (1).ipynb",
      "provenance": []
    },
    "kernelspec": {
      "display_name": "Python 3",
      "language": "python",
      "name": "python3"
    },
    "language_info": {
      "codemirror_mode": {
        "name": "ipython",
        "version": 3
      },
      "file_extension": ".py",
      "mimetype": "text/x-python",
      "name": "python",
      "nbconvert_exporter": "python",
      "pygments_lexer": "ipython3",
      "version": "3.10.10"
    }
  },
  "nbformat": 4,
  "nbformat_minor": 5
}
